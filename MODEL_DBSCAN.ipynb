{
 "cells": [
  {
   "cell_type": "code",
   "execution_count": 1,
   "source": [
    "import numpy as np \n",
    "import pandas as pd \n",
    "import matplotlib.pyplot  as plt"
   ],
   "outputs": [],
   "metadata": {}
  },
  {
   "cell_type": "code",
   "execution_count": 2,
   "source": [
    "from sklearn.cluster import KMeans, DBSCAN\n",
    "from sklearn.metrics import silhouette_score\n",
    "from sklearn.neighbors import KNeighborsClassifier\n",
    "from sklearn.neighbors import NearestNeighbors"
   ],
   "outputs": [],
   "metadata": {}
  },
  {
   "cell_type": "code",
   "execution_count": 3,
   "source": [
    "import folium\n",
    "import re\n",
    "from geopy.distance import great_circle\n",
    "from shapely.geometry import MultiPoint\n",
    "import geopandas as gpd"
   ],
   "outputs": [],
   "metadata": {}
  },
  {
   "cell_type": "code",
   "execution_count": 4,
   "source": [
    "df=pd.read_csv('/Users/mackbookpro/US_CarAccident/US_Accidents_Dec21_updated.csv') #put relevant file path"
   ],
   "outputs": [
    {
     "output_type": "error",
     "ename": "FileNotFoundError",
     "evalue": "[Errno 2] No such file or directory: '.../US_Accidents_Dec21_updated.csv'",
     "traceback": [
      "\u001b[0;31m---------------------------------------------------------------------------\u001b[0m",
      "\u001b[0;31mFileNotFoundError\u001b[0m                         Traceback (most recent call last)",
      "\u001b[0;32m<ipython-input-4-a76bfd573ed2>\u001b[0m in \u001b[0;36m<module>\u001b[0;34m\u001b[0m\n\u001b[0;32m----> 1\u001b[0;31m \u001b[0mdf\u001b[0m\u001b[0;34m=\u001b[0m\u001b[0mpd\u001b[0m\u001b[0;34m.\u001b[0m\u001b[0mread_csv\u001b[0m\u001b[0;34m(\u001b[0m\u001b[0;34m'.../US_Accidents_Dec21_updated.csv'\u001b[0m\u001b[0;34m)\u001b[0m \u001b[0;31m#put relevant file path\u001b[0m\u001b[0;34m\u001b[0m\u001b[0;34m\u001b[0m\u001b[0m\n\u001b[0m",
      "\u001b[0;32m/opt/anaconda3/lib/python3.8/site-packages/pandas/io/parsers.py\u001b[0m in \u001b[0;36mread_csv\u001b[0;34m(filepath_or_buffer, sep, delimiter, header, names, index_col, usecols, squeeze, prefix, mangle_dupe_cols, dtype, engine, converters, true_values, false_values, skipinitialspace, skiprows, skipfooter, nrows, na_values, keep_default_na, na_filter, verbose, skip_blank_lines, parse_dates, infer_datetime_format, keep_date_col, date_parser, dayfirst, cache_dates, iterator, chunksize, compression, thousands, decimal, lineterminator, quotechar, quoting, doublequote, escapechar, comment, encoding, dialect, error_bad_lines, warn_bad_lines, delim_whitespace, low_memory, memory_map, float_precision, storage_options)\u001b[0m\n\u001b[1;32m    608\u001b[0m     \u001b[0mkwds\u001b[0m\u001b[0;34m.\u001b[0m\u001b[0mupdate\u001b[0m\u001b[0;34m(\u001b[0m\u001b[0mkwds_defaults\u001b[0m\u001b[0;34m)\u001b[0m\u001b[0;34m\u001b[0m\u001b[0;34m\u001b[0m\u001b[0m\n\u001b[1;32m    609\u001b[0m \u001b[0;34m\u001b[0m\u001b[0m\n\u001b[0;32m--> 610\u001b[0;31m     \u001b[0;32mreturn\u001b[0m \u001b[0m_read\u001b[0m\u001b[0;34m(\u001b[0m\u001b[0mfilepath_or_buffer\u001b[0m\u001b[0;34m,\u001b[0m \u001b[0mkwds\u001b[0m\u001b[0;34m)\u001b[0m\u001b[0;34m\u001b[0m\u001b[0;34m\u001b[0m\u001b[0m\n\u001b[0m\u001b[1;32m    611\u001b[0m \u001b[0;34m\u001b[0m\u001b[0m\n\u001b[1;32m    612\u001b[0m \u001b[0;34m\u001b[0m\u001b[0m\n",
      "\u001b[0;32m/opt/anaconda3/lib/python3.8/site-packages/pandas/io/parsers.py\u001b[0m in \u001b[0;36m_read\u001b[0;34m(filepath_or_buffer, kwds)\u001b[0m\n\u001b[1;32m    460\u001b[0m \u001b[0;34m\u001b[0m\u001b[0m\n\u001b[1;32m    461\u001b[0m     \u001b[0;31m# Create the parser.\u001b[0m\u001b[0;34m\u001b[0m\u001b[0;34m\u001b[0m\u001b[0;34m\u001b[0m\u001b[0m\n\u001b[0;32m--> 462\u001b[0;31m     \u001b[0mparser\u001b[0m \u001b[0;34m=\u001b[0m \u001b[0mTextFileReader\u001b[0m\u001b[0;34m(\u001b[0m\u001b[0mfilepath_or_buffer\u001b[0m\u001b[0;34m,\u001b[0m \u001b[0;34m**\u001b[0m\u001b[0mkwds\u001b[0m\u001b[0;34m)\u001b[0m\u001b[0;34m\u001b[0m\u001b[0;34m\u001b[0m\u001b[0m\n\u001b[0m\u001b[1;32m    463\u001b[0m \u001b[0;34m\u001b[0m\u001b[0m\n\u001b[1;32m    464\u001b[0m     \u001b[0;32mif\u001b[0m \u001b[0mchunksize\u001b[0m \u001b[0;32mor\u001b[0m \u001b[0miterator\u001b[0m\u001b[0;34m:\u001b[0m\u001b[0;34m\u001b[0m\u001b[0;34m\u001b[0m\u001b[0m\n",
      "\u001b[0;32m/opt/anaconda3/lib/python3.8/site-packages/pandas/io/parsers.py\u001b[0m in \u001b[0;36m__init__\u001b[0;34m(self, f, engine, **kwds)\u001b[0m\n\u001b[1;32m    817\u001b[0m             \u001b[0mself\u001b[0m\u001b[0;34m.\u001b[0m\u001b[0moptions\u001b[0m\u001b[0;34m[\u001b[0m\u001b[0;34m\"has_index_names\"\u001b[0m\u001b[0;34m]\u001b[0m \u001b[0;34m=\u001b[0m \u001b[0mkwds\u001b[0m\u001b[0;34m[\u001b[0m\u001b[0;34m\"has_index_names\"\u001b[0m\u001b[0;34m]\u001b[0m\u001b[0;34m\u001b[0m\u001b[0;34m\u001b[0m\u001b[0m\n\u001b[1;32m    818\u001b[0m \u001b[0;34m\u001b[0m\u001b[0m\n\u001b[0;32m--> 819\u001b[0;31m         \u001b[0mself\u001b[0m\u001b[0;34m.\u001b[0m\u001b[0m_engine\u001b[0m \u001b[0;34m=\u001b[0m \u001b[0mself\u001b[0m\u001b[0;34m.\u001b[0m\u001b[0m_make_engine\u001b[0m\u001b[0;34m(\u001b[0m\u001b[0mself\u001b[0m\u001b[0;34m.\u001b[0m\u001b[0mengine\u001b[0m\u001b[0;34m)\u001b[0m\u001b[0;34m\u001b[0m\u001b[0;34m\u001b[0m\u001b[0m\n\u001b[0m\u001b[1;32m    820\u001b[0m \u001b[0;34m\u001b[0m\u001b[0m\n\u001b[1;32m    821\u001b[0m     \u001b[0;32mdef\u001b[0m \u001b[0mclose\u001b[0m\u001b[0;34m(\u001b[0m\u001b[0mself\u001b[0m\u001b[0;34m)\u001b[0m\u001b[0;34m:\u001b[0m\u001b[0;34m\u001b[0m\u001b[0;34m\u001b[0m\u001b[0m\n",
      "\u001b[0;32m/opt/anaconda3/lib/python3.8/site-packages/pandas/io/parsers.py\u001b[0m in \u001b[0;36m_make_engine\u001b[0;34m(self, engine)\u001b[0m\n\u001b[1;32m   1048\u001b[0m             )\n\u001b[1;32m   1049\u001b[0m         \u001b[0;31m# error: Too many arguments for \"ParserBase\"\u001b[0m\u001b[0;34m\u001b[0m\u001b[0;34m\u001b[0m\u001b[0;34m\u001b[0m\u001b[0m\n\u001b[0;32m-> 1050\u001b[0;31m         \u001b[0;32mreturn\u001b[0m \u001b[0mmapping\u001b[0m\u001b[0;34m[\u001b[0m\u001b[0mengine\u001b[0m\u001b[0;34m]\u001b[0m\u001b[0;34m(\u001b[0m\u001b[0mself\u001b[0m\u001b[0;34m.\u001b[0m\u001b[0mf\u001b[0m\u001b[0;34m,\u001b[0m \u001b[0;34m**\u001b[0m\u001b[0mself\u001b[0m\u001b[0;34m.\u001b[0m\u001b[0moptions\u001b[0m\u001b[0;34m)\u001b[0m  \u001b[0;31m# type: ignore[call-arg]\u001b[0m\u001b[0;34m\u001b[0m\u001b[0;34m\u001b[0m\u001b[0m\n\u001b[0m\u001b[1;32m   1051\u001b[0m \u001b[0;34m\u001b[0m\u001b[0m\n\u001b[1;32m   1052\u001b[0m     \u001b[0;32mdef\u001b[0m \u001b[0m_failover_to_python\u001b[0m\u001b[0;34m(\u001b[0m\u001b[0mself\u001b[0m\u001b[0;34m)\u001b[0m\u001b[0;34m:\u001b[0m\u001b[0;34m\u001b[0m\u001b[0;34m\u001b[0m\u001b[0m\n",
      "\u001b[0;32m/opt/anaconda3/lib/python3.8/site-packages/pandas/io/parsers.py\u001b[0m in \u001b[0;36m__init__\u001b[0;34m(self, src, **kwds)\u001b[0m\n\u001b[1;32m   1865\u001b[0m \u001b[0;34m\u001b[0m\u001b[0m\n\u001b[1;32m   1866\u001b[0m         \u001b[0;31m# open handles\u001b[0m\u001b[0;34m\u001b[0m\u001b[0;34m\u001b[0m\u001b[0;34m\u001b[0m\u001b[0m\n\u001b[0;32m-> 1867\u001b[0;31m         \u001b[0mself\u001b[0m\u001b[0;34m.\u001b[0m\u001b[0m_open_handles\u001b[0m\u001b[0;34m(\u001b[0m\u001b[0msrc\u001b[0m\u001b[0;34m,\u001b[0m \u001b[0mkwds\u001b[0m\u001b[0;34m)\u001b[0m\u001b[0;34m\u001b[0m\u001b[0;34m\u001b[0m\u001b[0m\n\u001b[0m\u001b[1;32m   1868\u001b[0m         \u001b[0;32massert\u001b[0m \u001b[0mself\u001b[0m\u001b[0;34m.\u001b[0m\u001b[0mhandles\u001b[0m \u001b[0;32mis\u001b[0m \u001b[0;32mnot\u001b[0m \u001b[0;32mNone\u001b[0m\u001b[0;34m\u001b[0m\u001b[0;34m\u001b[0m\u001b[0m\n\u001b[1;32m   1869\u001b[0m         \u001b[0;32mfor\u001b[0m \u001b[0mkey\u001b[0m \u001b[0;32min\u001b[0m \u001b[0;34m(\u001b[0m\u001b[0;34m\"storage_options\"\u001b[0m\u001b[0;34m,\u001b[0m \u001b[0;34m\"encoding\"\u001b[0m\u001b[0;34m,\u001b[0m \u001b[0;34m\"memory_map\"\u001b[0m\u001b[0;34m,\u001b[0m \u001b[0;34m\"compression\"\u001b[0m\u001b[0;34m)\u001b[0m\u001b[0;34m:\u001b[0m\u001b[0;34m\u001b[0m\u001b[0;34m\u001b[0m\u001b[0m\n",
      "\u001b[0;32m/opt/anaconda3/lib/python3.8/site-packages/pandas/io/parsers.py\u001b[0m in \u001b[0;36m_open_handles\u001b[0;34m(self, src, kwds)\u001b[0m\n\u001b[1;32m   1360\u001b[0m         \u001b[0mLet\u001b[0m \u001b[0mthe\u001b[0m \u001b[0mreaders\u001b[0m \u001b[0mopen\u001b[0m \u001b[0mIOHanldes\u001b[0m \u001b[0mafter\u001b[0m \u001b[0mthey\u001b[0m \u001b[0mare\u001b[0m \u001b[0mdone\u001b[0m \u001b[0;32mwith\u001b[0m \u001b[0mtheir\u001b[0m \u001b[0mpotential\u001b[0m \u001b[0mraises\u001b[0m\u001b[0;34m.\u001b[0m\u001b[0;34m\u001b[0m\u001b[0;34m\u001b[0m\u001b[0m\n\u001b[1;32m   1361\u001b[0m         \"\"\"\n\u001b[0;32m-> 1362\u001b[0;31m         self.handles = get_handle(\n\u001b[0m\u001b[1;32m   1363\u001b[0m             \u001b[0msrc\u001b[0m\u001b[0;34m,\u001b[0m\u001b[0;34m\u001b[0m\u001b[0;34m\u001b[0m\u001b[0m\n\u001b[1;32m   1364\u001b[0m             \u001b[0;34m\"r\"\u001b[0m\u001b[0;34m,\u001b[0m\u001b[0;34m\u001b[0m\u001b[0;34m\u001b[0m\u001b[0m\n",
      "\u001b[0;32m/opt/anaconda3/lib/python3.8/site-packages/pandas/io/common.py\u001b[0m in \u001b[0;36mget_handle\u001b[0;34m(path_or_buf, mode, encoding, compression, memory_map, is_text, errors, storage_options)\u001b[0m\n\u001b[1;32m    640\u001b[0m                 \u001b[0merrors\u001b[0m \u001b[0;34m=\u001b[0m \u001b[0;34m\"replace\"\u001b[0m\u001b[0;34m\u001b[0m\u001b[0;34m\u001b[0m\u001b[0m\n\u001b[1;32m    641\u001b[0m             \u001b[0;31m# Encoding\u001b[0m\u001b[0;34m\u001b[0m\u001b[0;34m\u001b[0m\u001b[0;34m\u001b[0m\u001b[0m\n\u001b[0;32m--> 642\u001b[0;31m             handle = open(\n\u001b[0m\u001b[1;32m    643\u001b[0m                 \u001b[0mhandle\u001b[0m\u001b[0;34m,\u001b[0m\u001b[0;34m\u001b[0m\u001b[0;34m\u001b[0m\u001b[0m\n\u001b[1;32m    644\u001b[0m                 \u001b[0mioargs\u001b[0m\u001b[0;34m.\u001b[0m\u001b[0mmode\u001b[0m\u001b[0;34m,\u001b[0m\u001b[0;34m\u001b[0m\u001b[0;34m\u001b[0m\u001b[0m\n",
      "\u001b[0;31mFileNotFoundError\u001b[0m: [Errno 2] No such file or directory: '.../US_Accidents_Dec21_updated.csv'"
     ]
    }
   ],
   "metadata": {}
  },
  {
   "cell_type": "code",
   "execution_count": null,
   "source": [
    "df.drop(df.columns.difference(['Start_Lat','Start_Lng', 'Start_Time', 'ID']), 1, inplace=True)"
   ],
   "outputs": [],
   "metadata": {}
  },
  {
   "cell_type": "code",
   "execution_count": null,
   "source": [
    "df['Year'] = pd.to_datetime(df['Start_Time']).dt.year"
   ],
   "outputs": [],
   "metadata": {}
  },
  {
   "cell_type": "code",
   "execution_count": null,
   "source": [
    "coords=df.loc[:,['Start_Lat','Start_Lng']].values\n",
    "df['coords'] = [x for x in coords]\n",
    "df.head()"
   ],
   "outputs": [
    {
     "output_type": "execute_result",
     "data": {
      "text/plain": [
       "    ID           Start_Time  Start_Lat  Start_Lng  Year  \\\n",
       "0  A-1  2016-02-08 00:37:08  40.108910 -83.092860  2016   \n",
       "1  A-2  2016-02-08 05:56:20  39.865420 -84.062800  2016   \n",
       "2  A-3  2016-02-08 06:15:39  39.102660 -84.524680  2016   \n",
       "3  A-4  2016-02-08 06:51:45  41.062130 -81.537840  2016   \n",
       "4  A-5  2016-02-08 07:53:43  39.172393 -84.492792  2016   \n",
       "\n",
       "                            coords  \n",
       "0            [40.10891, -83.09286]  \n",
       "1             [39.86542, -84.0628]  \n",
       "2            [39.10266, -84.52468]  \n",
       "3            [41.06213, -81.53784]  \n",
       "4  [39.172393, -84.49279200000002]  "
      ],
      "text/html": [
       "<div>\n",
       "<style scoped>\n",
       "    .dataframe tbody tr th:only-of-type {\n",
       "        vertical-align: middle;\n",
       "    }\n",
       "\n",
       "    .dataframe tbody tr th {\n",
       "        vertical-align: top;\n",
       "    }\n",
       "\n",
       "    .dataframe thead th {\n",
       "        text-align: right;\n",
       "    }\n",
       "</style>\n",
       "<table border=\"1\" class=\"dataframe\">\n",
       "  <thead>\n",
       "    <tr style=\"text-align: right;\">\n",
       "      <th></th>\n",
       "      <th>ID</th>\n",
       "      <th>Start_Time</th>\n",
       "      <th>Start_Lat</th>\n",
       "      <th>Start_Lng</th>\n",
       "      <th>Year</th>\n",
       "      <th>coords</th>\n",
       "    </tr>\n",
       "  </thead>\n",
       "  <tbody>\n",
       "    <tr>\n",
       "      <th>0</th>\n",
       "      <td>A-1</td>\n",
       "      <td>2016-02-08 00:37:08</td>\n",
       "      <td>40.108910</td>\n",
       "      <td>-83.092860</td>\n",
       "      <td>2016</td>\n",
       "      <td>[40.10891, -83.09286]</td>\n",
       "    </tr>\n",
       "    <tr>\n",
       "      <th>1</th>\n",
       "      <td>A-2</td>\n",
       "      <td>2016-02-08 05:56:20</td>\n",
       "      <td>39.865420</td>\n",
       "      <td>-84.062800</td>\n",
       "      <td>2016</td>\n",
       "      <td>[39.86542, -84.0628]</td>\n",
       "    </tr>\n",
       "    <tr>\n",
       "      <th>2</th>\n",
       "      <td>A-3</td>\n",
       "      <td>2016-02-08 06:15:39</td>\n",
       "      <td>39.102660</td>\n",
       "      <td>-84.524680</td>\n",
       "      <td>2016</td>\n",
       "      <td>[39.10266, -84.52468]</td>\n",
       "    </tr>\n",
       "    <tr>\n",
       "      <th>3</th>\n",
       "      <td>A-4</td>\n",
       "      <td>2016-02-08 06:51:45</td>\n",
       "      <td>41.062130</td>\n",
       "      <td>-81.537840</td>\n",
       "      <td>2016</td>\n",
       "      <td>[41.06213, -81.53784]</td>\n",
       "    </tr>\n",
       "    <tr>\n",
       "      <th>4</th>\n",
       "      <td>A-5</td>\n",
       "      <td>2016-02-08 07:53:43</td>\n",
       "      <td>39.172393</td>\n",
       "      <td>-84.492792</td>\n",
       "      <td>2016</td>\n",
       "      <td>[39.172393, -84.49279200000002]</td>\n",
       "    </tr>\n",
       "  </tbody>\n",
       "</table>\n",
       "</div>"
      ]
     },
     "metadata": {},
     "execution_count": 7
    }
   ],
   "metadata": {}
  },
  {
   "cell_type": "code",
   "execution_count": null,
   "source": [
    "kms_per_radian = 6371.0088\n",
    "epsilon = 0.05 / kms_per_radian \n",
    "db = DBSCAN(eps=epsilon, min_samples=60, algorithm='ball_tree', metric='haversine').fit(np.radians(coords))\n",
    "cluster_labels = db.labels_\n",
    "num_clusters = len(set(cluster_labels))\n",
    "clusters = pd.Series([coords[cluster_labels == n] for n in range(num_clusters)])"
   ],
   "outputs": [],
   "metadata": {}
  },
  {
   "cell_type": "code",
   "execution_count": null,
   "source": [
    "print('Number of clusters: {}'.format(num_clusters))\n",
    "print(f'Number of outliers found: {len(cluster_labels[cluster_labels==-1])}')"
   ],
   "outputs": [
    {
     "output_type": "stream",
     "name": "stdout",
     "text": [
      "Number of clusters: 4017\n",
      "Number of outliers found: 2423012\n"
     ]
    }
   ],
   "metadata": {}
  },
  {
   "cell_type": "code",
   "execution_count": null,
   "source": [
    "plt.scatter(coords[:, 0],coords[:,1], c = cluster_labels, cmap= \"plasma\") \n",
    "plt.xlabel(\"Latitude\") \n",
    "plt.ylabel(\"Longitude\") \n",
    "plt.show() "
   ],
   "outputs": [],
   "metadata": {}
  },
  {
   "cell_type": "code",
   "execution_count": null,
   "source": [
    "clusters_centroids = [MultiPoint(x).centroid for x in clusters]\n",
    "crs = {'init': 'epsg:4326'}\n",
    "cgdf = gpd.GeoDataFrame(clusters, crs=crs, geometry=clusters_centroids)\n",
    "good_cdgf = cgdf[ ~cgdf['geometry'].is_empty ]\n",
    "\n",
    "good_cdgf.plot()"
   ],
   "outputs": [],
   "metadata": {}
  },
  {
   "cell_type": "code",
   "execution_count": null,
   "source": [
    "\"\"\"def create_map(df,cluster_labels):\n",
    "\n",
    "    plt_map=folium.Map(location=[df.Start_Lat.mean(),df.Start_Lng.mean()],zoom_start=10,\n",
    "                 tiles='OpenStreetMap')\n",
    "    for _,row in df.iterrows():\n",
    "        folium.CircleMarker(\n",
    "            location=[row.Start_Lat,row.Start_Lng],\n",
    "            radius=5,\n",
    "            popup=re.sub(r'[^a-zA-Z ]+','',row.ID),\n",
    "            color='blue',\n",
    "            fill=True\n",
    "        ).add_to(plt_map)\n",
    "        \n",
    "    return plt_map\"\"\""
   ],
   "outputs": [
    {
     "output_type": "execute_result",
     "data": {
      "text/plain": [
       "\"def create_map(df,cluster_labels):\\n\\n    plt_map=folium.Map(location=[df.Start_Lat.mean(),df.Start_Lng.mean()],zoom_start=10,\\n                 tiles='OpenStreetMap')\\n    for _,row in df.iterrows():\\n        folium.CircleMarker(\\n            location=[row.Start_Lat,row.Start_Lng],\\n            radius=5,\\n            popup=re.sub(r'[^a-zA-Z ]+','',row.ID),\\n            color='blue',\\n            fill=True\\n        ).add_to(plt_map)\\n        \\n    return plt_map\""
      ]
     },
     "metadata": {},
     "execution_count": 10
    }
   ],
   "metadata": {}
  },
  {
   "cell_type": "code",
   "execution_count": null,
   "source": [
    "\"\"\"plt_map=create_map(df, cluster_labels)\n",
    "plt_map\"\"\""
   ],
   "outputs": [
    {
     "output_type": "execute_result",
     "data": {
      "text/plain": [
       "'plt_map=create_map(df, cluster_labels)\\nplt_map'"
      ]
     },
     "metadata": {},
     "execution_count": 11
    }
   ],
   "metadata": {}
  },
  {
   "cell_type": "code",
   "execution_count": null,
   "source": [
    "df['Cluster'] = cluster_labels\n",
    "df.shape\n",
    "#df.head()"
   ],
   "outputs": [
    {
     "output_type": "execute_result",
     "data": {
      "text/plain": [
       "(2845342, 7)"
      ]
     },
     "metadata": {},
     "execution_count": 12
    }
   ],
   "metadata": {}
  },
  {
   "cell_type": "code",
   "execution_count": null,
   "source": [
    "df.drop(df[df['Cluster'] == -1].index, inplace = True)\n",
    "df.head()"
   ],
   "outputs": [
    {
     "output_type": "execute_result",
     "data": {
      "text/plain": [
       "        ID           Start_Time  Start_Lat  Start_Lng  Year  \\\n",
       "115  A-116  2016-02-11 14:53:15   39.17736  -84.48730  2016   \n",
       "257  A-258  2016-02-17 10:54:38   39.17736  -84.48730  2016   \n",
       "593  A-594  2016-03-02 16:10:42   39.05654  -84.54283  2016   \n",
       "606  A-607  2016-03-02 20:16:10   39.17736  -84.48730  2016   \n",
       "722  A-723  2016-03-08 08:55:43   39.05654  -84.54283  2016   \n",
       "\n",
       "                                      coords  Cluster  \n",
       "115                     [39.17736, -84.4873]        0  \n",
       "257                     [39.17736, -84.4873]        0  \n",
       "593  [39.05654000000001, -84.54283000000002]        1  \n",
       "606                     [39.17736, -84.4873]        0  \n",
       "722  [39.05654000000001, -84.54283000000002]        1  "
      ],
      "text/html": [
       "<div>\n",
       "<style scoped>\n",
       "    .dataframe tbody tr th:only-of-type {\n",
       "        vertical-align: middle;\n",
       "    }\n",
       "\n",
       "    .dataframe tbody tr th {\n",
       "        vertical-align: top;\n",
       "    }\n",
       "\n",
       "    .dataframe thead th {\n",
       "        text-align: right;\n",
       "    }\n",
       "</style>\n",
       "<table border=\"1\" class=\"dataframe\">\n",
       "  <thead>\n",
       "    <tr style=\"text-align: right;\">\n",
       "      <th></th>\n",
       "      <th>ID</th>\n",
       "      <th>Start_Time</th>\n",
       "      <th>Start_Lat</th>\n",
       "      <th>Start_Lng</th>\n",
       "      <th>Year</th>\n",
       "      <th>coords</th>\n",
       "      <th>Cluster</th>\n",
       "    </tr>\n",
       "  </thead>\n",
       "  <tbody>\n",
       "    <tr>\n",
       "      <th>115</th>\n",
       "      <td>A-116</td>\n",
       "      <td>2016-02-11 14:53:15</td>\n",
       "      <td>39.17736</td>\n",
       "      <td>-84.48730</td>\n",
       "      <td>2016</td>\n",
       "      <td>[39.17736, -84.4873]</td>\n",
       "      <td>0</td>\n",
       "    </tr>\n",
       "    <tr>\n",
       "      <th>257</th>\n",
       "      <td>A-258</td>\n",
       "      <td>2016-02-17 10:54:38</td>\n",
       "      <td>39.17736</td>\n",
       "      <td>-84.48730</td>\n",
       "      <td>2016</td>\n",
       "      <td>[39.17736, -84.4873]</td>\n",
       "      <td>0</td>\n",
       "    </tr>\n",
       "    <tr>\n",
       "      <th>593</th>\n",
       "      <td>A-594</td>\n",
       "      <td>2016-03-02 16:10:42</td>\n",
       "      <td>39.05654</td>\n",
       "      <td>-84.54283</td>\n",
       "      <td>2016</td>\n",
       "      <td>[39.05654000000001, -84.54283000000002]</td>\n",
       "      <td>1</td>\n",
       "    </tr>\n",
       "    <tr>\n",
       "      <th>606</th>\n",
       "      <td>A-607</td>\n",
       "      <td>2016-03-02 20:16:10</td>\n",
       "      <td>39.17736</td>\n",
       "      <td>-84.48730</td>\n",
       "      <td>2016</td>\n",
       "      <td>[39.17736, -84.4873]</td>\n",
       "      <td>0</td>\n",
       "    </tr>\n",
       "    <tr>\n",
       "      <th>722</th>\n",
       "      <td>A-723</td>\n",
       "      <td>2016-03-08 08:55:43</td>\n",
       "      <td>39.05654</td>\n",
       "      <td>-84.54283</td>\n",
       "      <td>2016</td>\n",
       "      <td>[39.05654000000001, -84.54283000000002]</td>\n",
       "      <td>1</td>\n",
       "    </tr>\n",
       "  </tbody>\n",
       "</table>\n",
       "</div>"
      ]
     },
     "metadata": {},
     "execution_count": 13
    }
   ],
   "metadata": {}
  },
  {
   "cell_type": "code",
   "execution_count": null,
   "source": [
    "df.shape"
   ],
   "outputs": [
    {
     "output_type": "execute_result",
     "data": {
      "text/plain": [
       "(422330, 7)"
      ]
     },
     "metadata": {},
     "execution_count": 14
    }
   ],
   "metadata": {}
  },
  {
   "cell_type": "code",
   "execution_count": null,
   "source": [
    "out_df = df\n",
    "out_df = out_df.groupby('Cluster').agg(lambda x: x.tolist())\n",
    "out_df.head()"
   ],
   "outputs": [
    {
     "output_type": "execute_result",
     "data": {
      "text/plain": [
       "                                                        ID  \\\n",
       "Cluster                                                      \n",
       "0        [A-116, A-258, A-607, A-805, A-38595, A-54237,...   \n",
       "1        [A-594, A-723, A-757, A-762, A-967, A-36743, A...   \n",
       "2        [A-991, A-992, A-1056, A-1560, A-1917, A-2170,...   \n",
       "3        [A-998, A-1175, A-1968, A-1973, A-2359, A-2400...   \n",
       "4        [A-1003, A-2981, A-108673, A-109986, A-124920,...   \n",
       "\n",
       "                                                Start_Time  \\\n",
       "Cluster                                                      \n",
       "0        [2016-02-11 14:53:15, 2016-02-17 10:54:38, 201...   \n",
       "1        [2016-03-02 16:10:42, 2016-03-08 08:55:43, 201...   \n",
       "2        [2016-03-22 20:07:32, 2016-03-22 21:40:18, 201...   \n",
       "3        [2016-03-23 06:45:09, 2016-03-28 06:43:13, 201...   \n",
       "4        [2016-03-23 08:52:43, 2016-05-04 14:58:22, 201...   \n",
       "\n",
       "                                                 Start_Lat  \\\n",
       "Cluster                                                      \n",
       "0        [39.17736, 39.17736, 39.17736, 39.17736, 39.17...   \n",
       "1        [39.05654000000001, 39.05654000000001, 39.0565...   \n",
       "2        [37.881943, 37.881038, 37.88124000000001, 37.8...   \n",
       "3        [37.31648, 37.31648, 37.31648, 37.31648, 37.31...   \n",
       "4        [37.377536, 37.37737, 37.37737, 37.37737, 37.3...   \n",
       "\n",
       "                                                 Start_Lng  \\\n",
       "Cluster                                                      \n",
       "0        [-84.4873, -84.4873, -84.4873, -84.4873, -84.4...   \n",
       "1        [-84.54283000000002, -84.54283000000002, -84.5...   \n",
       "2        [-122.307987, -122.307788, -122.30814, -122.30...   \n",
       "3        [-121.96746, -121.96746, -121.96746, -121.9674...   \n",
       "4        [-121.945376, -121.94545, -121.94545, -121.945...   \n",
       "\n",
       "                                                      Year  \\\n",
       "Cluster                                                      \n",
       "0        [2016, 2016, 2016, 2016, 2016, 2016, 2016, 201...   \n",
       "1        [2016, 2016, 2016, 2016, 2016, 2016, 2016, 201...   \n",
       "2        [2016, 2016, 2016, 2016, 2016, 2016, 2016, 201...   \n",
       "3        [2016, 2016, 2016, 2016, 2016, 2016, 2016, 201...   \n",
       "4        [2016, 2016, 2016, 2017, 2016, 2016, 2016, 201...   \n",
       "\n",
       "                                                    coords  \n",
       "Cluster                                                     \n",
       "0        [[39.17736, -84.4873], [39.17736, -84.4873], [...  \n",
       "1        [[39.05654000000001, -84.54283000000002], [39....  \n",
       "2        [[37.881943, -122.307987], [37.881038, -122.30...  \n",
       "3        [[37.31648, -121.96746], [37.31648, -121.96746...  \n",
       "4        [[37.377536, -121.945376], [37.37737, -121.945...  "
      ],
      "text/html": [
       "<div>\n",
       "<style scoped>\n",
       "    .dataframe tbody tr th:only-of-type {\n",
       "        vertical-align: middle;\n",
       "    }\n",
       "\n",
       "    .dataframe tbody tr th {\n",
       "        vertical-align: top;\n",
       "    }\n",
       "\n",
       "    .dataframe thead th {\n",
       "        text-align: right;\n",
       "    }\n",
       "</style>\n",
       "<table border=\"1\" class=\"dataframe\">\n",
       "  <thead>\n",
       "    <tr style=\"text-align: right;\">\n",
       "      <th></th>\n",
       "      <th>ID</th>\n",
       "      <th>Start_Time</th>\n",
       "      <th>Start_Lat</th>\n",
       "      <th>Start_Lng</th>\n",
       "      <th>Year</th>\n",
       "      <th>coords</th>\n",
       "    </tr>\n",
       "    <tr>\n",
       "      <th>Cluster</th>\n",
       "      <th></th>\n",
       "      <th></th>\n",
       "      <th></th>\n",
       "      <th></th>\n",
       "      <th></th>\n",
       "      <th></th>\n",
       "    </tr>\n",
       "  </thead>\n",
       "  <tbody>\n",
       "    <tr>\n",
       "      <th>0</th>\n",
       "      <td>[A-116, A-258, A-607, A-805, A-38595, A-54237,...</td>\n",
       "      <td>[2016-02-11 14:53:15, 2016-02-17 10:54:38, 201...</td>\n",
       "      <td>[39.17736, 39.17736, 39.17736, 39.17736, 39.17...</td>\n",
       "      <td>[-84.4873, -84.4873, -84.4873, -84.4873, -84.4...</td>\n",
       "      <td>[2016, 2016, 2016, 2016, 2016, 2016, 2016, 201...</td>\n",
       "      <td>[[39.17736, -84.4873], [39.17736, -84.4873], [...</td>\n",
       "    </tr>\n",
       "    <tr>\n",
       "      <th>1</th>\n",
       "      <td>[A-594, A-723, A-757, A-762, A-967, A-36743, A...</td>\n",
       "      <td>[2016-03-02 16:10:42, 2016-03-08 08:55:43, 201...</td>\n",
       "      <td>[39.05654000000001, 39.05654000000001, 39.0565...</td>\n",
       "      <td>[-84.54283000000002, -84.54283000000002, -84.5...</td>\n",
       "      <td>[2016, 2016, 2016, 2016, 2016, 2016, 2016, 201...</td>\n",
       "      <td>[[39.05654000000001, -84.54283000000002], [39....</td>\n",
       "    </tr>\n",
       "    <tr>\n",
       "      <th>2</th>\n",
       "      <td>[A-991, A-992, A-1056, A-1560, A-1917, A-2170,...</td>\n",
       "      <td>[2016-03-22 20:07:32, 2016-03-22 21:40:18, 201...</td>\n",
       "      <td>[37.881943, 37.881038, 37.88124000000001, 37.8...</td>\n",
       "      <td>[-122.307987, -122.307788, -122.30814, -122.30...</td>\n",
       "      <td>[2016, 2016, 2016, 2016, 2016, 2016, 2016, 201...</td>\n",
       "      <td>[[37.881943, -122.307987], [37.881038, -122.30...</td>\n",
       "    </tr>\n",
       "    <tr>\n",
       "      <th>3</th>\n",
       "      <td>[A-998, A-1175, A-1968, A-1973, A-2359, A-2400...</td>\n",
       "      <td>[2016-03-23 06:45:09, 2016-03-28 06:43:13, 201...</td>\n",
       "      <td>[37.31648, 37.31648, 37.31648, 37.31648, 37.31...</td>\n",
       "      <td>[-121.96746, -121.96746, -121.96746, -121.9674...</td>\n",
       "      <td>[2016, 2016, 2016, 2016, 2016, 2016, 2016, 201...</td>\n",
       "      <td>[[37.31648, -121.96746], [37.31648, -121.96746...</td>\n",
       "    </tr>\n",
       "    <tr>\n",
       "      <th>4</th>\n",
       "      <td>[A-1003, A-2981, A-108673, A-109986, A-124920,...</td>\n",
       "      <td>[2016-03-23 08:52:43, 2016-05-04 14:58:22, 201...</td>\n",
       "      <td>[37.377536, 37.37737, 37.37737, 37.37737, 37.3...</td>\n",
       "      <td>[-121.945376, -121.94545, -121.94545, -121.945...</td>\n",
       "      <td>[2016, 2016, 2016, 2017, 2016, 2016, 2016, 201...</td>\n",
       "      <td>[[37.377536, -121.945376], [37.37737, -121.945...</td>\n",
       "    </tr>\n",
       "  </tbody>\n",
       "</table>\n",
       "</div>"
      ]
     },
     "metadata": {},
     "execution_count": 15
    }
   ],
   "metadata": {}
  },
  {
   "cell_type": "code",
   "execution_count": null,
   "source": [
    "out_df['Count'] = out_df.Year.apply(len) #number of accidents per specific cluster\n",
    "out_df.head()"
   ],
   "outputs": [
    {
     "output_type": "execute_result",
     "data": {
      "text/plain": [
       "                                                        ID  \\\n",
       "Cluster                                                      \n",
       "0        [A-116, A-258, A-607, A-805, A-38595, A-54237,...   \n",
       "1        [A-594, A-723, A-757, A-762, A-967, A-36743, A...   \n",
       "2        [A-991, A-992, A-1056, A-1560, A-1917, A-2170,...   \n",
       "3        [A-998, A-1175, A-1968, A-1973, A-2359, A-2400...   \n",
       "4        [A-1003, A-2981, A-108673, A-109986, A-124920,...   \n",
       "\n",
       "                                                Start_Time  \\\n",
       "Cluster                                                      \n",
       "0        [2016-02-11 14:53:15, 2016-02-17 10:54:38, 201...   \n",
       "1        [2016-03-02 16:10:42, 2016-03-08 08:55:43, 201...   \n",
       "2        [2016-03-22 20:07:32, 2016-03-22 21:40:18, 201...   \n",
       "3        [2016-03-23 06:45:09, 2016-03-28 06:43:13, 201...   \n",
       "4        [2016-03-23 08:52:43, 2016-05-04 14:58:22, 201...   \n",
       "\n",
       "                                                 Start_Lat  \\\n",
       "Cluster                                                      \n",
       "0        [39.17736, 39.17736, 39.17736, 39.17736, 39.17...   \n",
       "1        [39.05654000000001, 39.05654000000001, 39.0565...   \n",
       "2        [37.881943, 37.881038, 37.88124000000001, 37.8...   \n",
       "3        [37.31648, 37.31648, 37.31648, 37.31648, 37.31...   \n",
       "4        [37.377536, 37.37737, 37.37737, 37.37737, 37.3...   \n",
       "\n",
       "                                                 Start_Lng  \\\n",
       "Cluster                                                      \n",
       "0        [-84.4873, -84.4873, -84.4873, -84.4873, -84.4...   \n",
       "1        [-84.54283000000002, -84.54283000000002, -84.5...   \n",
       "2        [-122.307987, -122.307788, -122.30814, -122.30...   \n",
       "3        [-121.96746, -121.96746, -121.96746, -121.9674...   \n",
       "4        [-121.945376, -121.94545, -121.94545, -121.945...   \n",
       "\n",
       "                                                      Year  \\\n",
       "Cluster                                                      \n",
       "0        [2016, 2016, 2016, 2016, 2016, 2016, 2016, 201...   \n",
       "1        [2016, 2016, 2016, 2016, 2016, 2016, 2016, 201...   \n",
       "2        [2016, 2016, 2016, 2016, 2016, 2016, 2016, 201...   \n",
       "3        [2016, 2016, 2016, 2016, 2016, 2016, 2016, 201...   \n",
       "4        [2016, 2016, 2016, 2017, 2016, 2016, 2016, 201...   \n",
       "\n",
       "                                                    coords  Count  \n",
       "Cluster                                                            \n",
       "0        [[39.17736, -84.4873], [39.17736, -84.4873], [...     66  \n",
       "1        [[39.05654000000001, -84.54283000000002], [39....     63  \n",
       "2        [[37.881943, -122.307987], [37.881038, -122.30...    275  \n",
       "3        [[37.31648, -121.96746], [37.31648, -121.96746...     77  \n",
       "4        [[37.377536, -121.945376], [37.37737, -121.945...     61  "
      ],
      "text/html": [
       "<div>\n",
       "<style scoped>\n",
       "    .dataframe tbody tr th:only-of-type {\n",
       "        vertical-align: middle;\n",
       "    }\n",
       "\n",
       "    .dataframe tbody tr th {\n",
       "        vertical-align: top;\n",
       "    }\n",
       "\n",
       "    .dataframe thead th {\n",
       "        text-align: right;\n",
       "    }\n",
       "</style>\n",
       "<table border=\"1\" class=\"dataframe\">\n",
       "  <thead>\n",
       "    <tr style=\"text-align: right;\">\n",
       "      <th></th>\n",
       "      <th>ID</th>\n",
       "      <th>Start_Time</th>\n",
       "      <th>Start_Lat</th>\n",
       "      <th>Start_Lng</th>\n",
       "      <th>Year</th>\n",
       "      <th>coords</th>\n",
       "      <th>Count</th>\n",
       "    </tr>\n",
       "    <tr>\n",
       "      <th>Cluster</th>\n",
       "      <th></th>\n",
       "      <th></th>\n",
       "      <th></th>\n",
       "      <th></th>\n",
       "      <th></th>\n",
       "      <th></th>\n",
       "      <th></th>\n",
       "    </tr>\n",
       "  </thead>\n",
       "  <tbody>\n",
       "    <tr>\n",
       "      <th>0</th>\n",
       "      <td>[A-116, A-258, A-607, A-805, A-38595, A-54237,...</td>\n",
       "      <td>[2016-02-11 14:53:15, 2016-02-17 10:54:38, 201...</td>\n",
       "      <td>[39.17736, 39.17736, 39.17736, 39.17736, 39.17...</td>\n",
       "      <td>[-84.4873, -84.4873, -84.4873, -84.4873, -84.4...</td>\n",
       "      <td>[2016, 2016, 2016, 2016, 2016, 2016, 2016, 201...</td>\n",
       "      <td>[[39.17736, -84.4873], [39.17736, -84.4873], [...</td>\n",
       "      <td>66</td>\n",
       "    </tr>\n",
       "    <tr>\n",
       "      <th>1</th>\n",
       "      <td>[A-594, A-723, A-757, A-762, A-967, A-36743, A...</td>\n",
       "      <td>[2016-03-02 16:10:42, 2016-03-08 08:55:43, 201...</td>\n",
       "      <td>[39.05654000000001, 39.05654000000001, 39.0565...</td>\n",
       "      <td>[-84.54283000000002, -84.54283000000002, -84.5...</td>\n",
       "      <td>[2016, 2016, 2016, 2016, 2016, 2016, 2016, 201...</td>\n",
       "      <td>[[39.05654000000001, -84.54283000000002], [39....</td>\n",
       "      <td>63</td>\n",
       "    </tr>\n",
       "    <tr>\n",
       "      <th>2</th>\n",
       "      <td>[A-991, A-992, A-1056, A-1560, A-1917, A-2170,...</td>\n",
       "      <td>[2016-03-22 20:07:32, 2016-03-22 21:40:18, 201...</td>\n",
       "      <td>[37.881943, 37.881038, 37.88124000000001, 37.8...</td>\n",
       "      <td>[-122.307987, -122.307788, -122.30814, -122.30...</td>\n",
       "      <td>[2016, 2016, 2016, 2016, 2016, 2016, 2016, 201...</td>\n",
       "      <td>[[37.881943, -122.307987], [37.881038, -122.30...</td>\n",
       "      <td>275</td>\n",
       "    </tr>\n",
       "    <tr>\n",
       "      <th>3</th>\n",
       "      <td>[A-998, A-1175, A-1968, A-1973, A-2359, A-2400...</td>\n",
       "      <td>[2016-03-23 06:45:09, 2016-03-28 06:43:13, 201...</td>\n",
       "      <td>[37.31648, 37.31648, 37.31648, 37.31648, 37.31...</td>\n",
       "      <td>[-121.96746, -121.96746, -121.96746, -121.9674...</td>\n",
       "      <td>[2016, 2016, 2016, 2016, 2016, 2016, 2016, 201...</td>\n",
       "      <td>[[37.31648, -121.96746], [37.31648, -121.96746...</td>\n",
       "      <td>77</td>\n",
       "    </tr>\n",
       "    <tr>\n",
       "      <th>4</th>\n",
       "      <td>[A-1003, A-2981, A-108673, A-109986, A-124920,...</td>\n",
       "      <td>[2016-03-23 08:52:43, 2016-05-04 14:58:22, 201...</td>\n",
       "      <td>[37.377536, 37.37737, 37.37737, 37.37737, 37.3...</td>\n",
       "      <td>[-121.945376, -121.94545, -121.94545, -121.945...</td>\n",
       "      <td>[2016, 2016, 2016, 2017, 2016, 2016, 2016, 201...</td>\n",
       "      <td>[[37.377536, -121.945376], [37.37737, -121.945...</td>\n",
       "      <td>61</td>\n",
       "    </tr>\n",
       "  </tbody>\n",
       "</table>\n",
       "</div>"
      ]
     },
     "metadata": {},
     "execution_count": 16
    }
   ],
   "metadata": {}
  },
  {
   "cell_type": "code",
   "execution_count": null,
   "source": [
    "out_df.shape"
   ],
   "outputs": [
    {
     "output_type": "execute_result",
     "data": {
      "text/plain": [
       "(4016, 7)"
      ]
     },
     "metadata": {},
     "execution_count": 20
    }
   ],
   "metadata": {}
  },
  {
   "cell_type": "code",
   "execution_count": null,
   "source": [
    "out_csv = out_df.to_csv('.../output.csv')"
   ],
   "outputs": [],
   "metadata": {}
  }
 ],
 "metadata": {
  "kernelspec": {
   "name": "python3",
   "display_name": "Python 3.8.2 64-bit ('base': conda)"
  },
  "language_info": {
   "codemirror_mode": {
    "name": "ipython",
    "version": 3
   },
   "file_extension": ".py",
   "mimetype": "text/x-python",
   "name": "python",
   "nbconvert_exporter": "python",
   "pygments_lexer": "ipython3",
   "version": "3.8.2"
  },
  "interpreter": {
   "hash": "dca0ade3e726a953b501b15e8e990130d2b7799f14cfd9f4271676035ebe5511"
  }
 },
 "nbformat": 4,
 "nbformat_minor": 5
}