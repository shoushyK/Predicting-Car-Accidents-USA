{
 "cells": [
  {
   "cell_type": "code",
   "execution_count": 1,
   "id": "42617514-5869-48d2-a9a0-dcd822c89a15",
   "metadata": {},
   "outputs": [],
   "source": [
    "import numpy as np # linear algebra\n",
    "import pandas as pd # data processing, CSV file I/O (e.g. pd.read_csv)\n",
    "import matplotlib.pyplot  as plt\n",
    "import plotly.express as px"
   ]
  },
  {
   "cell_type": "code",
   "execution_count": null,
   "id": "c4a4f6ae-d855-4e15-8da0-aed1ab243db1",
   "metadata": {},
   "outputs": [],
   "source": [
    "df=pd.read_csv('/Users/macbookpro/Downloads/US_Accidents_Dec21_updated.csv')"
   ]
  },
  {
   "cell_type": "code",
   "execution_count": null,
   "id": "d22aa85c-85fc-48d7-9e0a-4341e379f063",
   "metadata": {},
   "outputs": [],
   "source": [
    "df.head()"
   ]
  },
  {
   "cell_type": "code",
   "execution_count": null,
   "id": "1a06348e-ceff-4429-be33-796d332d97a3",
   "metadata": {},
   "outputs": [],
   "source": [
    "df.columns"
   ]
  },
  {
   "cell_type": "code",
   "execution_count": null,
   "id": "47f9f461-c07f-4d88-818b-ddad9f676593",
   "metadata": {},
   "outputs": [],
   "source": [
    "df.tail()"
   ]
  },
  {
   "cell_type": "code",
   "execution_count": null,
   "id": "a6f08d0c-a06b-4d0c-8b32-cc6894cb2f0c",
   "metadata": {},
   "outputs": [],
   "source": [
    "df.info()"
   ]
  },
  {
   "cell_type": "code",
   "execution_count": null,
   "id": "aaece862-d591-4513-890e-be2cb136d254",
   "metadata": {},
   "outputs": [],
   "source": [
    "df.describe().T"
   ]
  },
  {
   "cell_type": "code",
   "execution_count": null,
   "id": "05bd4cb3-b7d9-46cd-a1e3-9380dee8d48a",
   "metadata": {},
   "outputs": [],
   "source": [
    "df.isnull().sum()"
   ]
  },
  {
   "cell_type": "code",
   "execution_count": null,
   "id": "5f5efa34-2662-4a85-a8a7-5263803ebe0e",
   "metadata": {},
   "outputs": [],
   "source": [
    "percent_missing = df.isnull().sum() * 100 / len(df)\n",
    "missing_value_df = pd.DataFrame({'percent_missing': percent_missing})"
   ]
  },
  {
   "cell_type": "code",
   "execution_count": null,
   "id": "b7b2db6e-7efb-4a6c-a798-53592200b86a",
   "metadata": {},
   "outputs": [],
   "source": [
    "missing_value_df.sort_values('percent_missing', ascending=False,inplace=True) #inplace = True REMOVES empty data\n"
   ]
  },
  {
   "cell_type": "code",
   "execution_count": null,
   "id": "f13b2bdb-7605-4f5b-9e92-1cee945a88dd",
   "metadata": {},
   "outputs": [],
   "source": [
    "missing_value_df[missing_value_df['percent_missing'] > 0]\n"
   ]
  },
  {
   "cell_type": "code",
   "execution_count": null,
   "id": "492a6a85-cac1-48ae-bdd3-aeaf8949cc61",
   "metadata": {},
   "outputs": [],
   "source": [
    "df.isnull()\n"
   ]
  },
  {
   "cell_type": "code",
   "execution_count": null,
   "id": "87e250dc-e765-460c-883f-85d67be10f35",
   "metadata": {},
   "outputs": [],
   "source": [
    "remove = 'Number'\n",
    "df.drop(remove, inplace =True, axis =1)"
   ]
  },
  {
   "cell_type": "code",
   "execution_count": null,
   "id": "74cea320-1f50-4ed4-b39c-0722830cbbba",
   "metadata": {},
   "outputs": [],
   "source": [
    "df.isnull().sum()"
   ]
  },
  {
   "cell_type": "code",
   "execution_count": null,
   "id": "efbf9c0a-ae03-446e-a568-1f53ca751c5c",
   "metadata": {},
   "outputs": [],
   "source": [
    "percent_missing = df.isnull().sum() * 100 / len(df)\n",
    "missing_value_df = pd.DataFrame({'percent_missing': percent_missing})\n",
    "missing_value_df.sort_values('percent_missing', ascending=False,inplace=True) #inplace = True REMOVES empty data\n",
    "missing_value_df[missing_value_df['percent_missing'] > 0]\n"
   ]
  },
  {
   "cell_type": "code",
   "execution_count": null,
   "id": "b1ef8ded-d7d7-448a-b2e2-4ff8475e7339",
   "metadata": {},
   "outputs": [],
   "source": [
    "df.duplicated()"
   ]
  },
  {
   "cell_type": "code",
   "execution_count": null,
   "id": "a74ba496-78f6-4740-aff3-690352e06c67",
   "metadata": {},
   "outputs": [],
   "source": [
    "df.select_dtypes(include= 'bool').columns.tolist() "
   ]
  },
  {
   "cell_type": "code",
   "execution_count": null,
   "id": "a1c8a117-0041-4154-98bd-1d8601d11fe0",
   "metadata": {},
   "outputs": [],
   "source": [
    "df.describe()\n"
   ]
  },
  {
   "cell_type": "raw",
   "id": "2bc2af61-0a84-4725-a898-98c329e9f838",
   "metadata": {},
   "source": [
    "Conclusions from df.describe:\n",
    "1. Visibility=9 miles is the average, which is excellent visibility -> eliminate visibility as a factor\n",
    "2. In 75% percentile, there was no reported precipitation -> eliminate rain as a factor\n",
    "3. Distance (Lenght of road extent affected) is on average = 0.7 miles"
   ]
  },
  {
   "cell_type": "code",
   "execution_count": null,
   "id": "461c014c-cefa-4680-8947-481d6cc72651",
   "metadata": {},
   "outputs": [],
   "source": [
    "df['City'].nunique()"
   ]
  },
  {
   "cell_type": "code",
   "execution_count": null,
   "id": "9a638a49-a480-4e5b-b736-af229780a714",
   "metadata": {},
   "outputs": [],
   "source": [
    "State = df.State.value_counts().reset_index()\n",
    "State.columns = ['State','Accidents']\n",
    "State.head()"
   ]
  },
  {
   "cell_type": "code",
   "execution_count": null,
   "id": "3842fd36-861d-4c68-a86f-059f5cf69e0c",
   "metadata": {},
   "outputs": [],
   "source": [
    "State['Percentage'] = round(State['Accidents'] * 100 / State['Accidents'].sum() , 2)\n",
    "State.head()"
   ]
  },
  {
   "cell_type": "code",
   "execution_count": null,
   "id": "d889a39d-dddd-484e-93a6-9b062dfc4b01",
   "metadata": {},
   "outputs": [],
   "source": [
    "plt.figure(figsize=(18,9))\n",
    "graph = plt.bar(State.State.head(10),State.Accidents.head(10),)\n",
    "plt.title('Percentage of accidents occured across the top 10 States',ha='center',weight='bold')\n",
    "plt.xlabel(\"State\",ha='center',weight='bold')\n",
    "plt.ylabel(\"Number of accidents\",ha='center',weight='bold')\n",
    " \n",
    "i = 0\n",
    "for p in graph:\n",
    "    width = p.get_width()\n",
    "    height = p.get_height()\n",
    "    x, y = p.get_xy()\n",
    "    plt.text(x+width/2,\n",
    "             y+height*1.01,\n",
    "             str(State.Percentage[i])+'%',\n",
    "             ha='center',\n",
    "             weight='bold')\n",
    "    i+=1\n",
    "plt.show()"
   ]
  },
  {
   "cell_type": "code",
   "execution_count": null,
   "id": "b24a9042-e597-4091-95b4-bc454ba7733d",
   "metadata": {},
   "outputs": [],
   "source": [
    "\n",
    "fig = px.choropleth(State, locationmode= 'USA-states',locations='State', color='Accidents',\n",
    "                           color_continuous_scale=\"Viridis\",\n",
    "                           range_color=(0, 800000),\n",
    "                           scope=\"usa\",\n",
    "                          )\n",
    "fig.update_layout(margin={\"r\":0,\"t\":0,\"l\":0,\"b\":0})\n",
    "fig.show()"
   ]
  },
  {
   "cell_type": "code",
   "execution_count": null,
   "id": "cc3feff2-1ac7-4aa3-ae24-db71093037ed",
   "metadata": {},
   "outputs": [],
   "source": []
  },
  {
   "cell_type": "code",
   "execution_count": null,
   "id": "af35346c-98a3-45bc-b1ae-08ba33dc88b3",
   "metadata": {},
   "outputs": [],
   "source": []
  }
 ],
 "metadata": {
  "kernelspec": {
   "display_name": "Python 3",
   "language": "python",
   "name": "python3"
  },
  "language_info": {
   "codemirror_mode": {
    "name": "ipython",
    "version": 3
   },
   "file_extension": ".py",
   "mimetype": "text/x-python",
   "name": "python",
   "nbconvert_exporter": "python",
   "pygments_lexer": "ipython3",
   "version": "3.8.8"
  }
 },
 "nbformat": 4,
 "nbformat_minor": 5
}
